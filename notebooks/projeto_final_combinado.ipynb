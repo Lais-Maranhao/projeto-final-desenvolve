{
  "cells": [
    {
      "cell_type": "markdown",
      "metadata": {},
      "source": [
        "# Projeto Final — Fluxo Integrado de Preparação e Modelagem\n",
        "\n",
        "Este notebook consolida as etapas de limpeza, análise exploratória e modelagem preditiva originalmente distribuídas nos notebooks `projeto_final.ipynb` e `notebooks/preparacao_ml.ipynb`. O objetivo é oferecer um fluxo único e organizado, cobrindo desde a extração dos dados no BigQuery até a avaliação do modelo e geração de previsões.\n"
      ]
    },
    {
      "cell_type": "markdown",
      "metadata": {},
      "source": [
        "## Visão Geral do Notebook\n",
        "\n",
        "1. **Configuração do ambiente e importações**\n",
        "2. **Coleta dos dados no BigQuery**\n",
        "3. **Análise exploratória dos dados**\n",
        "4. **Preparação dos dados para machine learning**\n",
        "5. **Treinamento e avaliação do modelo Random Forest**\n",
        "6. **Simulações com perfis de pacientes e previsões no conjunto de teste**\n",
        "7. **Recomendações e intervenções**\n"
      ]
    },
    {
      "cell_type": "markdown",
      "metadata": {},
      "source": [
        "# 0. Configurações e Importações\n",
        "\n",
        "Inicializamos as bibliotecas necessárias e garantimos que o ambiente possua as dependências para acessar o BigQuery e executar o fluxo de machine learning.\n"
      ]
    },
    {
      "cell_type": "code",
      "metadata": {},
      "execution_count": null,
      "outputs": [],
      "source": [
        "!pip install google-cloud-bigquery --quiet\n",
        "!pip install pandas scikit-learn matplotlib seaborn joblib --quiet\n",
        "\n",
        "from google.cloud import bigquery\n",
        "from google.colab import auth\n",
        "\n",
        "import pandas as pd\n",
        "import numpy as np\n",
        "import matplotlib.pyplot as plt\n",
        "import seaborn as sns\n",
        "\n",
        "from sklearn.model_selection import train_test_split\n",
        "from sklearn.preprocessing import OneHotEncoder, StandardScaler\n",
        "from sklearn.compose import ColumnTransformer\n",
        "from sklearn.pipeline import Pipeline\n",
        "from sklearn.ensemble import RandomForestRegressor\n",
        "from sklearn.metrics import mean_absolute_error, mean_squared_error, r2_score\n",
        "\n",
        "import joblib\n",
        "\n",
        "%matplotlib inline\n"
      ]
    },
    {
      "cell_type": "markdown",
      "metadata": {},
      "source": [
        "## 0.1 Autenticação no BigQuery\n",
        "\n",
        "Autentique-se utilizando as credenciais do Google para acessar o projeto do BigQuery.\n"
      ]
    },
    {
      "cell_type": "code",
      "metadata": {},
      "execution_count": null,
      "outputs": [],
      "source": [
        "auth.authenticate_user()\n"
      ]
    },
    {
      "cell_type": "markdown",
      "metadata": {},
      "source": [
        "# 1. Coleta dos Dados no BigQuery\n",
        "\n",
        "Consultamos as tabelas de treino e teste diretamente no projeto `t1engenhariadados` para garantir que utilizamos a versão mais atualizada dos dados.\n"
      ]
    },
    {
      "cell_type": "code",
      "metadata": {},
      "execution_count": null,
      "outputs": [],
      "source": [
        "main_project = bigquery.Client(project=\"t1engenhariadados\")\n"
      ]
    },
    {
      "cell_type": "code",
      "metadata": {},
      "execution_count": null,
      "outputs": [],
      "source": [
        "    select_train_data = \"\"\"\"\n",
        "SELECT *\n",
        "FROM `t1engenhariadados.turma2_grupo9.train_data`\n",
        "\"\"\"\n",
        "    train = main_project.query(select_train_data).to_dataframe()\n",
        "\n",
        "    select_test_data = \"\"\"\"\n",
        "SELECT *\n",
        "FROM `t1engenhariadados.turma2_grupo9.test_data`\n",
        "\"\"\"\n",
        "    test = main_project.query(select_test_data).to_dataframe()\n",
        "\n",
        "    print(f\"Dimensões do conjunto de treino: {train.shape}\")\n",
        "    print(f\"Dimensões do conjunto de teste:  {test.shape}\")\n"
      ]
    },
    {
      "cell_type": "markdown",
      "metadata": {},
      "source": [
        "## 1.1 Preparação do DataFrame base\n",
        "\n",
        "Manteremos uma cópia do conjunto de treino para exploração e pré-processamento, preservando os dados brutos retornados do BigQuery.\n"
      ]
    },
    {
      "cell_type": "code",
      "metadata": {},
      "execution_count": null,
      "outputs": [],
      "source": [
        "df_raw = train.copy()\n",
        "df_exploration = df_raw.copy()\n",
        "df_raw.head()\n"
      ]
    },
    {
      "cell_type": "markdown",
      "metadata": {},
      "source": [
        "# 2. Análise Exploratória dos Dados\n",
        "\n",
        "A seguir investigamos a estrutura do dataset, valores ausentes e distribuições iniciais para orientar as decisões de limpeza e modelagem.\n"
      ]
    },
    {
      "cell_type": "code",
      "metadata": {},
      "execution_count": null,
      "outputs": [],
      "source": [
        "df_exploration.info()\n"
      ]
    },
    {
      "cell_type": "code",
      "metadata": {},
      "execution_count": null,
      "outputs": [],
      "source": [
        "df_exploration.describe(include=\"all\")\n"
      ]
    },
    {
      "cell_type": "markdown",
      "metadata": {},
      "source": [
        "## 2.1 Padrões e Relações\n",
        "\n",
        "Exploramos correlações entre variáveis numéricas e a distribuição de `Stay` em relação a atributos categóricos relevantes.\n"
      ]
    },
    {
      "cell_type": "code",
      "metadata": {},
      "execution_count": null,
      "outputs": [],
      "source": [
        "numeric_cols = df_exploration.select_dtypes(include=[np.number]).columns\n",
        "plt.figure(figsize=(10, 6))\n",
        "sns.heatmap(df_exploration[numeric_cols].corr(), annot=True, cmap=\"coolwarm\")\n",
        "plt.title(\"Correlação entre variáveis numéricas\")\n",
        "plt.show()\n"
      ]
    },
    {
      "cell_type": "code",
      "metadata": {},
      "execution_count": null,
      "outputs": [],
      "source": [
        "    print(\"Value counts for Stay:\")\n",
        "    print(df_exploration[\"Stay\"].value_counts().to_markdown())\n",
        "\n",
        "    print(\"\n",
        "Stay vs Hospital_type_code:\")\n",
        "    print(df_exploration.groupby(\"Hospital_type_code\")[\"Stay\"].value_counts(normalize=True).unstack().to_markdown())\n",
        "\n",
        "    print(\"\n",
        "Stay vs Department:\")\n",
        "    print(df_exploration.groupby(\"Department\")[\"Stay\"].value_counts(normalize=True).unstack().to_markdown())\n",
        "\n",
        "    print(\"\n",
        "Stay vs Ward_Type:\")\n",
        "    print(df_exploration.groupby(\"Ward_Type\")[\"Stay\"].value_counts(normalize=True).unstack().to_markdown())\n",
        "\n",
        "    print(\"\n",
        "Stay vs Severity of Illness:\")\n",
        "    print(df_exploration.groupby(\"Severity of Illness\")[\"Stay\"].value_counts(normalize=True).unstack().to_markdown())\n",
        "\n",
        "    print(\"\n",
        "Stay vs Age:\")\n",
        "    print(df_exploration.groupby(\"Age\")[\"Stay\"].value_counts(normalize=True).unstack().to_markdown())\n"
      ]
    },
    {
      "cell_type": "code",
      "metadata": {},
      "execution_count": null,
      "outputs": [],
      "source": [
        "plt.figure(figsize=(10, 6))\n",
        "sns.countplot(data=df_exploration, x=\"Stay\", order=df_exploration[\"Stay\"].value_counts().index)\n",
        "plt.title(\"Distribuição da Duração da Estadia (Stay)\")\n",
        "plt.xlabel(\"Duração da Estadia\")\n",
        "plt.ylabel(\"Contagem\")\n",
        "plt.xticks(rotation=45)\n",
        "plt.tight_layout()\n",
        "plt.show()\n",
        "\n",
        "plt.figure(figsize=(12, 7))\n",
        "sns.countplot(\n",
        "    data=df_exploration,\n",
        "    x=\"Severity of Illness\",\n",
        "    hue=\"Stay\",\n",
        "    palette=\"viridis\",\n",
        "    order=df_exploration[\"Severity of Illness\"].value_counts().index,\n",
        ")\n",
        "plt.title(\"Duração da Estadia por Gravidade da Doença\")\n",
        "plt.xlabel(\"Gravidade da Doença\")\n",
        "plt.ylabel(\"Contagem\")\n",
        "plt.xticks(rotation=45)\n",
        "plt.tight_layout()\n",
        "plt.show()\n"
      ]
    },
    {
      "cell_type": "markdown",
      "metadata": {},
      "source": [
        "## 2.2 Fatores que influenciam a duração da internação\n",
        "\n",
        "Com base nas análises realizadas, os seguintes fatores demonstraram maior influência na duração da internação (`Stay`):\n",
        "\n",
        "### Gravidade da Doença (`Severity of Illness`)\n",
        "Pacientes com gravidade classificada como *Extreme* ou *Moderate* apresentam uma tendência clara a ter estadias hospitalares mais longas, incluindo casos de `More than 100 Days`. Em contraste, pacientes com gravidade *Minor* geralmente têm estadias mais curtas (0-10 e 11-20 dias).\n",
        "\n",
        "### Idade (`Age`)\n",
        "Pacientes mais jovens (faixas etárias como 0-10 e 11-20 anos) tendem a ter períodos de internação mais curtos. Por outro lado, pacientes mais velhos (especialmente nas faixas de 81-90 e 91-100 anos) mostram uma proporção significativamente maior de estadias prolongadas, incluindo a categoria `More than 100 Days`.\n",
        "\n",
        "### Tipo de Enfermaria (`Ward_Type`)\n",
        "O tipo de enfermaria está associado a diferentes durações de estadia. Enfermarias do tipo `P` concentram estadias de até 30 dias, enquanto as dos tipos `S` e `T` apresentam maior proporção de estadias longas.\n",
        "\n",
        "### Departamento (`Department`)\n",
        "Departamentos como `radiotherapy` e `surgery` concentram estadias muito longas, sugerindo que procedimentos nesses contextos requerem um tempo de recuperação estendido. Já `anesthesia` apresenta maior proporção de estadias entre 11-20 dias.\n",
        "\n",
        "### Tipo de Hospital (`Hospital_type_code`)\n",
        "Hospitais do tipo `g` exibem ligeira predominância de estadias muito longas em comparação com outros tipos, enquanto `a` e `e` apresentam distribuição mais equilibrada entre estadias curtas e médias.\n"
      ]
    },
    {
      "cell_type": "markdown",
      "metadata": {},
      "source": [
        "## 2.3 Interação entre idade e gravidade da doença\n",
        "\n",
        "A interação entre a faixa etária (`Age`) e a gravidade da doença (`Severity of Illness`) revela padrões mais complexos na duração da internação (`Stay`).\n"
      ]
    },
    {
      "cell_type": "markdown",
      "metadata": {},
      "source": [
        "### Principais insights da interação\n",
        "1. **Idade e gravidade extrema:** pacientes mais velhos com gravidade *Extreme* apresentam as maiores proporções de estadias muito longas (`More than 100 Days`).\n",
        "2. **Idade e gravidade menor:** em todas as idades, a gravidade *Minor* está associada a estadias curtas, com ligeiro aumento em pacientes mais velhos.\n",
        "3. **Idade e gravidade moderada:** para gravidade *Moderate*, a duração da internação aumenta com a idade, reforçando a necessidade de monitoramento em faixas etárias avançadas.\n",
        "4. **Padrão geral:** idade avançada combinada a gravidade moderada ou extrema é forte preditor de internações prolongadas.\n"
      ]
    },
    {
      "cell_type": "markdown",
      "metadata": {},
      "source": [
        "# 3. Preparação dos Dados para Machine Learning\n",
        "\n",
        "Aplicamos as etapas de limpeza do notebook `notebooks/preparacao_ml.ipynb`, garantindo que o dataset esteja adequado para o treinamento do modelo.\n"
      ]
    },
    {
      "cell_type": "code",
      "metadata": {},
      "execution_count": null,
      "outputs": [],
      "source": [
        "def age_to_numeric(age_range):\n",
        "    if isinstance(age_range, str) and \"-\" in age_range:\n",
        "        low, high = age_range.split(\"-\")\n",
        "        return (int(low) + int(high)) / 2\n",
        "    return age_range\n"
      ]
    },
    {
      "cell_type": "code",
      "metadata": {},
      "execution_count": null,
      "outputs": [],
      "source": [
        "df_prepared = df_raw.copy()\n",
        "\n",
        "# Tratamento de valores ausentes\n",
        "bed_grade_mode = df_prepared[\"Bed Grade\"].mode(dropna=True)[0]\n",
        "df_prepared[\"Bed Grade\"] = df_prepared[\"Bed Grade\"].fillna(bed_grade_mode)\n",
        "\n",
        "city_code_fill = 0\n",
        "df_prepared[\"City_Code_Patient\"] = df_prepared[\"City_Code_Patient\"].fillna(city_code_fill)\n",
        "\n",
        "# Conversão da idade para valores numéricos médios\n",
        "df_prepared[\"Age\"] = df_prepared[\"Age\"].apply(age_to_numeric)\n",
        "\n",
        "# Remoção de duplicatas\n",
        "df_prepared = df_prepared.drop_duplicates()\n",
        "\n",
        "# Tratamento de outliers via IQR\n",
        "numeric_cols = df_prepared.select_dtypes(include=np.number).columns.tolist()\n",
        "numeric_cols = [col for col in numeric_cols if col not in [\"case_id\", \"patientid\"]]\n",
        "\n",
        "outlier_bounds = {}\n",
        "for col in numeric_cols:\n",
        "    Q1 = df_prepared[col].quantile(0.25)\n",
        "    Q3 = df_prepared[col].quantile(0.75)\n",
        "    IQR = Q3 - Q1\n",
        "    lower = Q1 - 1.5 * IQR\n",
        "    upper = Q3 + 1.5 * IQR\n",
        "    outlier_bounds[col] = (lower, upper)\n",
        "    df_prepared = df_prepared[(df_prepared[col] >= lower) & (df_prepared[col] <= upper)]\n",
        "\n",
        "# Transformação logarítmica em Admission_Deposit\n",
        "if \"Admission_Deposit\" in df_prepared.columns:\n",
        "    df_prepared[\"Admission_Deposit\"] = np.log1p(df_prepared[\"Admission_Deposit\"])\n",
        "\n",
        "# Remoção de variáveis altamente correlacionadas\n",
        "numeric_cols_clean = df_prepared.select_dtypes(include=np.number).columns.tolist()\n",
        "corr_matrix = df_prepared[numeric_cols_clean].corr().abs()\n",
        "upper = corr_matrix.where(np.triu(np.ones(corr_matrix.shape), k=1).astype(bool))\n",
        "columns_to_drop_corr = [column for column in upper.columns if any(upper[column] > 0.95)]\n",
        "df_prepared = df_prepared.drop(columns=columns_to_drop_corr, errors=\"ignore\")\n",
        "\n",
        "# Agrupamento de categorias raras\n",
        "frequent_categories = {}\n",
        "cat_cols = df_prepared.select_dtypes(include=\"object\").columns.tolist()\n",
        "if \"Stay\" in cat_cols:\n",
        "    cat_cols.remove(\"Stay\")\n",
        "\n",
        "for col in cat_cols:\n",
        "    freq = df_prepared[col].value_counts(normalize=True)\n",
        "    raras = freq[freq < 0.01].index\n",
        "    allowed = set(freq[freq >= 0.01].index)\n",
        "    if len(raras) > 0:\n",
        "        df_prepared[col] = df_prepared[col].replace(list(raras), \"OUTRA\")\n",
        "        allowed.add(\"OUTRA\")\n",
        "    frequent_categories[col] = allowed\n"
      ]
    },
    {
      "cell_type": "code",
      "metadata": {},
      "execution_count": null,
      "outputs": [],
      "source": [
        "print(f\"Dimensões após limpeza: {df_prepared.shape}\")\n",
        "df_prepared.head()\n"
      ]
    },
    {
      "cell_type": "code",
      "metadata": {},
      "execution_count": null,
      "outputs": [],
      "source": [
        "preparation_artifacts = {\n",
        "    \"bed_grade_mode\": bed_grade_mode,\n",
        "    \"city_code_fill\": city_code_fill,\n",
        "    \"outlier_bounds\": outlier_bounds,\n",
        "    \"columns_to_drop_corr\": columns_to_drop_corr,\n",
        "    \"frequent_categories\": frequent_categories,\n",
        "}\n"
      ]
    },
    {
      "cell_type": "code",
      "metadata": {},
      "execution_count": null,
      "outputs": [],
      "source": [
        "def prepare_dataset_for_inference(df, artifacts, drop_target=False):\n",
        "    processed = df.copy()\n",
        "\n",
        "    processed[\"Bed Grade\"] = processed[\"Bed Grade\"].fillna(artifacts[\"bed_grade_mode\"])\n",
        "    processed[\"City_Code_Patient\"] = processed[\"City_Code_Patient\"].fillna(artifacts[\"city_code_fill\"])\n",
        "    processed[\"Age\"] = processed[\"Age\"].apply(age_to_numeric)\n",
        "\n",
        "    processed = processed.drop_duplicates()\n",
        "\n",
        "    for col, (lower, upper) in artifacts[\"outlier_bounds\"].items():\n",
        "        if col in processed.columns:\n",
        "            processed[col] = processed[col].clip(lower, upper)\n",
        "\n",
        "    if \"Admission_Deposit\" in processed.columns:\n",
        "        processed[\"Admission_Deposit\"] = np.log1p(processed[\"Admission_Deposit\"])\n",
        "\n",
        "    processed = processed.drop(columns=artifacts[\"columns_to_drop_corr\"], errors=\"ignore\")\n",
        "\n",
        "    for col, allowed in artifacts[\"frequent_categories\"].items():\n",
        "        if col in processed.columns:\n",
        "            processed[col] = processed[col].where(processed[col].isin(allowed), \"OUTRA\")\n",
        "\n",
        "    if drop_target and \"Stay\" in processed.columns:\n",
        "        processed = processed.drop(columns=[\"Stay\"])\n",
        "\n",
        "    feature_dtypes = artifacts.get(\"feature_dtypes\")\n",
        "    feature_columns = artifacts.get(\"feature_columns\")\n",
        "    if feature_dtypes and feature_columns:\n",
        "        for col, dtype_name in feature_dtypes.items():\n",
        "            if col not in processed.columns:\n",
        "                if \"float\" in dtype_name or \"int\" in dtype_name:\n",
        "                    processed[col] = 0.0\n",
        "                else:\n",
        "                    processed[col] = \"OUTRA\"\n",
        "        processed = processed.loc[:, feature_columns]\n",
        "\n",
        "    return processed\n"
      ]
    },
    {
      "cell_type": "markdown",
      "metadata": {},
      "source": [
        "# 4. Modelo Preditivo para Duração da Internação\n",
        "\n",
        "Com o dataset limpo, estruturamos um pipeline que normaliza variáveis numéricas, aplica codificação one-hot em variáveis categóricas e treina um Random Forest Regressor.\n"
      ]
    },
    {
      "cell_type": "code",
      "metadata": {},
      "execution_count": null,
      "outputs": [],
      "source": [
        "df_modeling = df_prepared.copy()\n",
        "\n",
        "stay_mapping = {\n",
        "    \"0-10\": 5,\n",
        "    \"11-20\": 15,\n",
        "    \"21-30\": 25,\n",
        "    \"31-40\": 35,\n",
        "    \"41-50\": 45,\n",
        "    \"51-60\": 55,\n",
        "    \"61-70\": 65,\n",
        "    \"71-80\": 75,\n",
        "    \"81-90\": 85,\n",
        "    \"91-100\": 95,\n",
        "    \"More than 100 Days\": 110,\n",
        "}\n",
        "\n",
        "stay_mapping_reverse = {v: k for k, v in stay_mapping.items()}\n",
        "\n",
        "df_modeling[\"Stay_numeric\"] = df_modeling[\"Stay\"].map(stay_mapping)\n",
        "df_modeling = df_modeling.dropna(subset=[\"Stay_numeric\"])\n",
        "\n",
        "id_columns = [\"case_id\", \"patientid\"]\n",
        "X = df_modeling.drop(columns=id_columns + [\"Stay\", \"Stay_numeric\"], errors=\"ignore\")\n",
        "y = df_modeling[\"Stay_numeric\"]\n",
        "\n",
        "numeric_features = X.select_dtypes(include=np.number).columns.tolist()\n",
        "categorical_features = X.select_dtypes(exclude=np.number).columns.tolist()\n",
        "\n",
        "preprocessor = ColumnTransformer(\n",
        "    transformers=[\n",
        "        (\"num\", StandardScaler(), numeric_features),\n",
        "        (\"cat\", OneHotEncoder(handle_unknown=\"ignore\"), categorical_features),\n",
        "    ]\n",
        ")\n",
        "\n",
        "regressor = RandomForestRegressor(n_estimators=200, random_state=42, n_jobs=-1)\n",
        "\n",
        "pipeline = Pipeline(steps=[(\"preprocessor\", preprocessor), (\"regressor\", regressor)])\n",
        "\n",
        "X_train, X_test, y_train, y_test = train_test_split(\n",
        "    X, y, test_size=0.2, random_state=42\n",
        ")\n",
        "\n",
        "pipeline.fit(X_train, y_train)\n",
        "y_pred = pipeline.predict(X_test)\n",
        "\n",
        "mae = mean_absolute_error(y_test, y_pred)\n",
        "mse = mean_squared_error(y_test, y_pred)\n",
        "rmse = mse ** 0.5\n",
        "r2 = r2_score(y_test, y_pred)\n",
        "\n",
        "print(f\"Mean Absolute Error (MAE): {mae:.2f}\")\n",
        "print(f\"Mean Squared Error (MSE): {mse:.2f}\")\n",
        "print(f\"Root Mean Squared Error (RMSE): {rmse:.2f}\")\n",
        "print(f\"R-squared (R2): {r2:.2f}\")\n",
        "\n",
        "joblib.dump(pipeline, \"random_forest_pipeline.pkl\")\n",
        "\n",
        "preparation_artifacts.update(\n",
        "    {\n",
        "        \"feature_columns\": X.columns.tolist(),\n",
        "        \"feature_dtypes\": X.dtypes.astype(str).to_dict(),\n",
        "        \"id_columns\": id_columns,\n",
        "        \"stay_mapping\": stay_mapping,\n",
        "        \"stay_mapping_reverse\": stay_mapping_reverse,\n",
        "    }\n",
        ")\n"
      ]
    },
    {
      "cell_type": "markdown",
      "metadata": {},
      "source": [
        "## 4.1 Conclusão do modelo preditivo\n",
        "\n",
        "O modelo Random Forest Regressor demonstrou capacidade de prever a duração da internação com boa aderência às métricas avaliadas. Os fatores identificados nas análises anteriores — gravidade da doença, idade, tipo de enfermaria, departamento e tipo de hospital — mostraram-se relevantes para a previsão. Para aprimoramentos futuros, recomenda-se explorar técnicas adicionais de engenharia de atributos e avaliar outros algoritmos de machine learning.\n"
      ]
    },
    {
      "cell_type": "code",
      "metadata": {},
      "execution_count": null,
      "outputs": [],
      "source": [
        "def map_prediction_to_stay_category(prediction_value):\n",
        "    closest_stay_numeric = min(\n",
        "        preparation_artifacts[\"stay_mapping_reverse\"].keys(),\n",
        "        key=lambda k: abs(k - prediction_value),\n",
        "    )\n",
        "    return preparation_artifacts[\"stay_mapping_reverse\"][closest_stay_numeric]\n"
      ]
    },
    {
      "cell_type": "markdown",
      "metadata": {},
      "source": [
        "# 5. Simulações com Perfis de Pacientes\n",
        "\n",
        "Utilizamos o pipeline treinado para estimar a duração da internação em perfis hipotéticos, facilitando a interpretação clínica do modelo.\n"
      ]
    },
    {
      "cell_type": "code",
      "metadata": {},
      "execution_count": null,
      "outputs": [],
      "source": [
        "patient_profiles_data = [\n",
        "    {\n",
        "        \"Hospital_code\": 8,\n",
        "        \"Hospital_type_code\": \"a\",\n",
        "        \"City_Code_Hospital\": 1,\n",
        "        \"Hospital_region_code\": \"X\",\n",
        "        \"Available Extra Rooms in Hospital\": 4,\n",
        "        \"Department\": \"gynecology\",\n",
        "        \"Ward_Type\": \"P\",\n",
        "        \"Ward_Facility_Code\": \"F\",\n",
        "        \"Bed Grade\": 2.0,\n",
        "        \"City_Code_Patient\": 7.0,\n",
        "        \"Type of Admission\": \"Emergency\",\n",
        "        \"Severity of Illness\": \"Minor\",\n",
        "        \"Visitors with Patient\": 2,\n",
        "        \"Age\": \"0-10\",\n",
        "        \"Admission_Deposit\": 4000.0,\n",
        "        \"Profile_Name\": \"Jovem, Doença Leve\",\n",
        "    },\n",
        "    {\n",
        "        \"Hospital_code\": 26,\n",
        "        \"Hospital_type_code\": \"b\",\n",
        "        \"City_Code_Hospital\": 2,\n",
        "        \"Hospital_region_code\": \"Y\",\n",
        "        \"Available Extra Rooms in Hospital\": 2,\n",
        "        \"Department\": \"surgery\",\n",
        "        \"Ward_Type\": \"S\",\n",
        "        \"Ward_Facility_Code\": \"F\",\n",
        "        \"Bed Grade\": 3.0,\n",
        "        \"City_Code_Patient\": 8.0,\n",
        "        \"Type of Admission\": \"Trauma\",\n",
        "        \"Severity of Illness\": \"Extreme\",\n",
        "        \"Visitors with Patient\": 4,\n",
        "        \"Age\": \"81-90\",\n",
        "        \"Admission_Deposit\": 6000.0,\n",
        "        \"Profile_Name\": \"Idoso, Doença Extrema\",\n",
        "    },\n",
        "    {\n",
        "        \"Hospital_code\": 10,\n",
        "        \"Hospital_type_code\": \"e\",\n",
        "        \"City_Code_Hospital\": 3,\n",
        "        \"Hospital_region_code\": \"Z\",\n",
        "        \"Available Extra Rooms in Hospital\": 3,\n",
        "        \"Department\": \"radiotherapy\",\n",
        "        \"Ward_Type\": \"T\",\n",
        "        \"Ward_Facility_Code\": \"E\",\n",
        "        \"Bed Grade\": 4.0,\n",
        "        \"City_Code_Patient\": 10.0,\n",
        "        \"Type of Admission\": \"Elective\",\n",
        "        \"Severity of Illness\": \"Moderate\",\n",
        "        \"Visitors with Patient\": 3,\n",
        "        \"Age\": \"51-60\",\n",
        "        \"Admission_Deposit\": 5000.0,\n",
        "        \"Profile_Name\": \"Meia-idade, Doença Moderada\",\n",
        "    },\n",
        "    {\n",
        "        \"Hospital_code\": 1,\n",
        "        \"Hospital_type_code\": \"a\",\n",
        "        \"City_Code_Hospital\": 1,\n",
        "        \"Hospital_region_code\": \"X\",\n",
        "        \"Available Extra Rooms in Hospital\": 1,\n",
        "        \"Department\": \"gynecology\",\n",
        "        \"Ward_Type\": \"P\",\n",
        "        \"Ward_Facility_Code\": \"F\",\n",
        "        \"Bed Grade\": 1.0,\n",
        "        \"City_Code_Patient\": 7.0,\n",
        "        \"Type of Admission\": \"Emergency\",\n",
        "        \"Severity of Illness\": \"Extreme\",\n",
        "        \"Visitors with Patient\": 5,\n",
        "        \"Age\": \"0-10\",\n",
        "        \"Admission_Deposit\": 4500.0,\n",
        "        \"Profile_Name\": \"Jovem, Doença Extrema\",\n",
        "    },\n",
        "    {\n",
        "        \"Hospital_code\": 32,\n",
        "        \"Hospital_type_code\": \"f\",\n",
        "        \"City_Code_Hospital\": 6,\n",
        "        \"Hospital_region_code\": \"Y\",\n",
        "        \"Available Extra Rooms in Hospital\": 5,\n",
        "        \"Department\": \"anesthesia\",\n",
        "        \"Ward_Type\": \"Q\",\n",
        "        \"Ward_Facility_Code\": \"D\",\n",
        "        \"Bed Grade\": 3.0,\n",
        "        \"City_Code_Patient\": 1.0,\n",
        "        \"Type of Admission\": \"Emergency\",\n",
        "        \"Severity of Illness\": \"Minor\",\n",
        "        \"Visitors with Patient\": 1,\n",
        "        \"Age\": \"91-100\",\n",
        "        \"Admission_Deposit\": 3500.0,\n",
        "        \"Profile_Name\": \"Idoso, Doença Leve\",\n",
        "    },\n",
        "]\n",
        "\n",
        "patient_profiles_df = pd.DataFrame(patient_profiles_data)\n",
        "profile_metadata = patient_profiles_df[[\"Profile_Name\"]].copy()\n",
        "\n",
        "patient_features = prepare_dataset_for_inference(\n",
        "    patient_profiles_df.drop(columns=[\"Profile_Name\"]),\n",
        "    preparation_artifacts,\n",
        "    drop_target=True,\n",
        ")\n",
        "\n",
        "profile_predictions_numeric = pipeline.predict(patient_features)\n",
        "\n",
        "predicted_stay_categories = [\n",
        "    map_prediction_to_stay_category(value) for value in profile_predictions_numeric\n",
        "]\n",
        "\n",
        "results_df = pd.DataFrame(\n",
        "    {\n",
        "        \"Profile_Name\": profile_metadata[\"Profile_Name\"],\n",
        "        \"Predicted_Stay_Numeric\": profile_predictions_numeric,\n",
        "        \"Predicted_Stay_Category\": predicted_stay_categories,\n",
        "    }\n",
        ")\n",
        "\n",
        "print(\"Previsões para os perfis de pacientes:\")\n",
        "print(results_df.to_markdown(index=False))\n"
      ]
    },
    {
      "cell_type": "markdown",
      "metadata": {},
      "source": [
        "# 6. Previsão no Conjunto de Teste do BigQuery\n",
        "\n",
        "Aplicamos a mesma preparação ao conjunto de teste para gerar estimativas da duração da internação em dados inéditos.\n"
      ]
    },
    {
      "cell_type": "code",
      "metadata": {},
      "execution_count": null,
      "outputs": [],
      "source": [
        "test_features = prepare_dataset_for_inference(\n",
        "    test,\n",
        "    preparation_artifacts,\n",
        "    drop_target=True,\n",
        ")\n",
        "\n",
        "test_predictions_numeric = pipeline.predict(test_features)\n",
        "test_predicted_categories = [\n",
        "    map_prediction_to_stay_category(value) for value in test_predictions_numeric\n",
        "]\n",
        "\n",
        "test_results = test.copy()\n",
        "test_results[\"Stay_predicted\"] = test_predictions_numeric\n",
        "test_results[\"Stay_category\"] = test_predicted_categories\n",
        "\n",
        "test_results[[\"case_id\", \"Stay_predicted\", \"Stay_category\"]].head()\n"
      ]
    },
    {
      "cell_type": "markdown",
      "metadata": {},
      "source": [
        "# 7. Sugestões de Intervenções para Otimizar a Duração da Internação\n",
        "\n",
        "Com base na análise aprofundada dos dados e nas previsões do modelo, é possível identificar perfis de pacientes com maior risco de internações prolongadas. As intervenções propostas visam otimizar a duração da estadia hospitalar, garantindo a qualidade do cuidado e a segurança do paciente, ao mesmo tempo em que se busca a eficiência operacional.\n",
        "\n",
        "## 7.1 Intervenções focadas em pacientes idosos e/ou com doença extrema\n",
        "Os perfis de pacientes idosos e aqueles com gravidade de doença extrema foram consistentemente associados às maiores durações de internação. A interação entre esses dois fatores é particularmente crítica. Para esses grupos, as intervenções devem ser multifacetadas:\n",
        "\n",
        "* **Avaliação Geriátrica Abrangente (AGA) precoce:** Implementar a AGA nas primeiras 24-48 horas de internação para identificar riscos de complicações, declínio funcional, desnutrição, polifarmácia e síndromes geriátricas.\n",
        "* **Equipes multidisciplinares especializadas:** Formar equipes dedicadas, incluindo geriatras, fisioterapeutas, terapeutas ocupacionais, nutricionistas, assistentes sociais e enfermeiros especializados.\n",
        "* **Protocolos de alta otimizados:** Desenvolver protocolos específicos para pacientes de alto risco, com coordenação de cuidados pós-alta e educação da família.\n",
        "* **Monitoramento intensivo e prevenção de complicações:** Aplicar pacotes de prevenção de complicações (p. ex. pneumonia associada à ventilação, infecções de corrente sanguínea, úlceras de pressão, delirium).\n",
        "* **Revisão medicamentosa:** Realizar revisões farmacêuticas regulares para otimizar a medicação e reduzir eventos adversos.\n",
        "\n",
        "## 7.2 Intervenções relacionadas ao departamento e tipo de enfermaria\n",
        "Departamentos como radioterapia e cirurgia, e enfermarias dos tipos `S` e `T`, foram associados a estadias mais longas.\n",
        "\n",
        "* **Otimização de fluxos de trabalho:** Agendar exames e procedimentos com eficiência, garantindo disponibilidade de leitos de recuperação e coordenação com equipes de reabilitação.\n",
        "* **Unidades de transição de cuidados:** Criar unidades intermediárias para pacientes que não necessitam de cuidados intensivos, mas ainda não estão prontos para alta domiciliar.\n",
        "* **Programas de reabilitação acelerada:** Implementar protocolos `ERAS (Enhanced Recovery After Surgery)` para reduzir o tempo de internação.\n",
        "\n",
        "## 7.3 Intervenções gerais e tecnológicas\n",
        "* **Uso de ferramentas preditivas:** Integrar o modelo desenvolvido aos sistemas de gestão hospitalar para identificar automaticamente pacientes com risco de estadias prolongadas.\n",
        "* **Telemedicina e monitoramento remoto:** Oferecer acompanhamento contínuo fora do ambiente hospitalar, facilitando altas precoces com segurança.\n",
        "* **Educação continuada da equipe:** Treinar profissionais sobre melhores práticas para gestão de pacientes com condições crônicas, cuidados paliativos e planejamento de alta.\n",
        "* **Otimização da gestão de leitos:** Utilizar análises preditivas para reduzir o tempo de espera por leitos e otimizar o fluxo de pacientes.\n",
        "\n",
        "## 7.4 Conclusão das intervenções\n",
        "A otimização da duração da internação requer abordagem integrada. As intervenções sugeridas — focadas na personalização do cuidado, otimização de processos e adoção de tecnologias preditivas — podem melhorar a eficiência do sistema de saúde e os resultados para os pacientes. Recomenda-se acompanhamento e avaliação contínua para garantir a eficácia dessas estratégias.\n"
      ]
    }
  ],
  "metadata": {
    "kernelspec": {
      "display_name": "Python 3",
      "language": "python",
      "name": "python3"
    },
    "language_info": {
      "codemirror_mode": {
        "name": "ipython",
        "version": 3
      },
      "file_extension": ".py",
      "mimetype": "text/x-python",
      "name": "python",
      "nbconvert_exporter": "python",
      "pygments_lexer": "ipython3",
      "version": "3.10"
    }
  },
  "nbformat": 4,
  "nbformat_minor": 5
}